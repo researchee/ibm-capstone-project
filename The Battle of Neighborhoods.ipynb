{
    "nbformat_minor": 1, 
    "cells": [
        {
            "source": "# The Battle of the Neighborhoods\n### Applied Data Science Capstone Project", 
            "cell_type": "markdown", 
            "metadata": {
                "collapsed": true
            }
        }, 
        {
            "source": "## Table of contents\n* [Introduction: Business Problem](#introduction)\n* [Data](#data)", 
            "cell_type": "markdown", 
            "metadata": {}
        }, 
        {
            "source": " ## Introduction: Business Problem <a name=\"introduction\"></a>", 
            "cell_type": "markdown", 
            "metadata": {}
        }, 
        {
            "source": "In this project we will try to find an optimal location for a **yoga studio**. Specifically, this report will be targeted to stakeholders interested in opening an yoga studio in London.", 
            "cell_type": "markdown", 
            "metadata": {}
        }, 
        {
            "source": "![Yoga studio](https://image.freepik.com/free-photo/yoga-group-class_1303-7762.jpg)", 
            "cell_type": "markdown", 
            "metadata": {}
        }, 
        {
            "source": "Since there are lots of yoga studios in London we will try to detect locations that are not already crowded with yoga studios and gyms (since many gyms provide group classes on yoga). We are also particularly interested in areas with no yoga studio in vicinity. We would also prefer locations as close to city center as possible, assuming that first two conditions are met.\n\nWe will use our data science powers to generate a few most promissing neighborhoods based on this criteria. Advantages of each area will then be clearly expressed so that best possible final location can be chosen by stakeholders.", 
            "cell_type": "markdown", 
            "metadata": {}
        }, 
        {
            "source": "## Data <a name=\"data\"></a>", 
            "cell_type": "markdown", 
            "metadata": {}
        }, 
        {
            "source": "Based on definition of our problem, factors that will influence our decission are:\n* number of existing yoga studios and gyms in the neighborhood\n* number of and distance to yoga studios in the neighborhood, if any\n* distance of neighborhood from city center\n\nWe decided to use regularly spaced grid of locations, centered around city center, to define our neighborhoods.\n\nFollowing data sources will be needed to extract/generate the required information:\n* centers of candidate areas will be generated algorithmically and approximate addresses of centers of those areas will be obtained using **Google Maps API reverse geocoding**\n* number of yoga studios and their type and location in every neighborhood will be obtained using **Foursquare API**\n* coordinate of London center will be obtained using **Google Maps API geocoding** of well known London location (Trafalgar Square)", 
            "cell_type": "markdown", 
            "metadata": {}
        }, 
        {
            "execution_count": null, 
            "cell_type": "code", 
            "metadata": {}, 
            "outputs": [], 
            "source": ""
        }
    ], 
    "metadata": {
        "kernelspec": {
            "display_name": "Python 3.6", 
            "name": "python3", 
            "language": "python"
        }, 
        "language_info": {
            "mimetype": "text/x-python", 
            "nbconvert_exporter": "python", 
            "version": "3.6.8", 
            "name": "python", 
            "file_extension": ".py", 
            "pygments_lexer": "ipython3", 
            "codemirror_mode": {
                "version": 3, 
                "name": "ipython"
            }
        }
    }, 
    "nbformat": 4
}